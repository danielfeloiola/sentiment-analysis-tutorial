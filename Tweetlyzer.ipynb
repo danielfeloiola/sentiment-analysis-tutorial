{
 "cells": [
  {
   "cell_type": "markdown",
   "metadata": {
    "id": "1lyReyOThO8x"
   },
   "source": [
    "## Tweet Sentiment Analysis\n",
    "\n",
    "source: https://www.youtube.com/watch?v=ujId4ipkBio\n"
   ]
  },
  {
   "cell_type": "code",
   "execution_count": 1,
   "metadata": {
    "executionInfo": {
     "elapsed": 1736,
     "status": "ok",
     "timestamp": 1653861268065,
     "user": {
      "displayName": "Daniel Loiola",
      "userId": "17718290381873343678"
     },
     "user_tz": 180
    },
    "id": "ljAcQjx_dBIk"
   },
   "outputs": [
    {
     "ename": "ModuleNotFoundError",
     "evalue": "No module named 'tweepy'",
     "output_type": "error",
     "traceback": [
      "\u001b[0;31m---------------------------------------------------------------------------\u001b[0m",
      "\u001b[0;31mModuleNotFoundError\u001b[0m                       Traceback (most recent call last)",
      "\u001b[0;32m<ipython-input-1-b43a06382788>\u001b[0m in \u001b[0;36m<module>\u001b[0;34m\u001b[0m\n\u001b[1;32m      1\u001b[0m \u001b[0;31m# Import stuff\u001b[0m\u001b[0;34m\u001b[0m\u001b[0;34m\u001b[0m\u001b[0;34m\u001b[0m\u001b[0m\n\u001b[1;32m      2\u001b[0m \u001b[0;32mimport\u001b[0m \u001b[0mos\u001b[0m\u001b[0;34m\u001b[0m\u001b[0;34m\u001b[0m\u001b[0m\n\u001b[0;32m----> 3\u001b[0;31m \u001b[0;32mimport\u001b[0m \u001b[0mtweepy\u001b[0m\u001b[0;34m\u001b[0m\u001b[0;34m\u001b[0m\u001b[0m\n\u001b[0m\u001b[1;32m      4\u001b[0m \u001b[0;32mfrom\u001b[0m \u001b[0mtextblob\u001b[0m \u001b[0;32mimport\u001b[0m \u001b[0mTextBlob\u001b[0m\u001b[0;34m\u001b[0m\u001b[0;34m\u001b[0m\u001b[0m\n\u001b[1;32m      5\u001b[0m \u001b[0;32mfrom\u001b[0m \u001b[0mwordcloud\u001b[0m \u001b[0;32mimport\u001b[0m \u001b[0mWordCloud\u001b[0m\u001b[0;34m\u001b[0m\u001b[0;34m\u001b[0m\u001b[0m\n",
      "\u001b[0;31mModuleNotFoundError\u001b[0m: No module named 'tweepy'"
     ]
    }
   ],
   "source": [
    "# Import stuff\n",
    "import os\n",
    "import tweepy\n",
    "from textblob import TextBlob\n",
    "from wordcloud import WordCloud\n",
    "import pandas as pd\n",
    "import numpy as np\n",
    "import re\n",
    "import matplotlib.pyplot as plt\n",
    "plt.style.use('fivethirtyeight')"
   ]
  },
  {
   "cell_type": "code",
   "execution_count": 2,
   "metadata": {
    "executionInfo": {
     "elapsed": 264,
     "status": "ok",
     "timestamp": 1653861269677,
     "user": {
      "displayName": "Daniel Loiola",
      "userId": "17718290381873343678"
     },
     "user_tz": 180
    },
    "id": "WYtgo-ctrtuD"
   },
   "outputs": [],
   "source": [
    "# Set the Twitter API\n",
    "\n",
    "api_key = os.getenv('API_KEY') \n",
    "api_secret = os.getenv('API_SECRET')\n",
    "access_token = os.getenv('ACCESS_TOKEN')\n",
    "access_secret = os.getenv('ACCESS_SECRET')\n",
    "\n",
    "auth = tweepy.OAuthHandler(api_key, api_secret)\n",
    "auth.set_access_token(access_token, access_secret)\n",
    "api = tweepy.API(auth)"
   ]
  },
  {
   "cell_type": "code",
   "execution_count": 3,
   "metadata": {
    "colab": {
     "base_uri": "https://localhost:8080/"
    },
    "executionInfo": {
     "elapsed": 659,
     "status": "ok",
     "timestamp": 1653861394030,
     "user": {
      "displayName": "Daniel Loiola",
      "userId": "17718290381873343678"
     },
     "user_tz": 180
    },
    "id": "s2RdxOTZr4NB",
    "outputId": "106e52b2-abe3-4fdd-ce90-fbab76193ad6"
   },
   "outputs": [
    {
     "name": "stderr",
     "output_type": "stream",
     "text": [
      "Unexpected parameter: lang\n"
     ]
    },
    {
     "name": "stdout",
     "output_type": "stream",
     "text": [
      "@mansukhmandviya It was great to meet Dr @mansukhmandviya and exchange perspectives on global health. India's success with the vaccination drive and the use of technology to drive health outcomes at scale offers many lessons for the world.\n",
      "Happy to meet Prime Minister @sanchezcastejon and members of his government today in Madrid. Great to see his leadership and commitment to addressing some of the most pressing global challenges, particularly more equity in global health, climate change and food security. https://t.co/gCUdvKr4jj\n",
      "The school shooting in Texas is heartbreaking. No parent should worry that their child isn’t safe at school. We must come together and act now so this never happens again.\n",
      "Not long ago, the world increased aid for global health during a time of crisis. We must do so again. https://t.co/zAOZ1tbKcw\n",
      ".@PardisSabeti is working to detect pathogens earlier and stop pandemics in the their tracks. https://t.co/g9ejMe3O2B\n"
     ]
    }
   ],
   "source": [
    "# Get the Tweets!\n",
    "tweets = api.user_timeline(screen_name='billgates', count=100, lang='en', tweet_mode='extended')\n",
    "\n",
    "for tweet in tweets[0:5]:\n",
    "    print(tweet.full_text)"
   ]
  },
  {
   "cell_type": "code",
   "execution_count": 4,
   "metadata": {
    "colab": {
     "base_uri": "https://localhost:8080/",
     "height": 206
    },
    "executionInfo": {
     "elapsed": 403,
     "status": "ok",
     "timestamp": 1653861395575,
     "user": {
      "displayName": "Daniel Loiola",
      "userId": "17718290381873343678"
     },
     "user_tz": 180
    },
    "id": "OcvCqEDYxQXI",
    "outputId": "4d53a7cd-c11f-4f6b-f7ed-f28b09144f8b"
   },
   "outputs": [
    {
     "data": {
      "text/html": [
       "<div>\n",
       "<style scoped>\n",
       "    .dataframe tbody tr th:only-of-type {\n",
       "        vertical-align: middle;\n",
       "    }\n",
       "\n",
       "    .dataframe tbody tr th {\n",
       "        vertical-align: top;\n",
       "    }\n",
       "\n",
       "    .dataframe thead th {\n",
       "        text-align: right;\n",
       "    }\n",
       "</style>\n",
       "<table border=\"1\" class=\"dataframe\">\n",
       "  <thead>\n",
       "    <tr style=\"text-align: right;\">\n",
       "      <th></th>\n",
       "      <th>Tweets</th>\n",
       "    </tr>\n",
       "  </thead>\n",
       "  <tbody>\n",
       "    <tr>\n",
       "      <th>0</th>\n",
       "      <td>@mansukhmandviya It was great to meet Dr @mans...</td>\n",
       "    </tr>\n",
       "    <tr>\n",
       "      <th>1</th>\n",
       "      <td>Happy to meet Prime Minister @sanchezcastejon ...</td>\n",
       "    </tr>\n",
       "    <tr>\n",
       "      <th>2</th>\n",
       "      <td>The school shooting in Texas is heartbreaking....</td>\n",
       "    </tr>\n",
       "    <tr>\n",
       "      <th>3</th>\n",
       "      <td>Not long ago, the world increased aid for glob...</td>\n",
       "    </tr>\n",
       "    <tr>\n",
       "      <th>4</th>\n",
       "      <td>.@PardisSabeti is working to detect pathogens ...</td>\n",
       "    </tr>\n",
       "  </tbody>\n",
       "</table>\n",
       "</div>"
      ],
      "text/plain": [
       "                                              Tweets\n",
       "0  @mansukhmandviya It was great to meet Dr @mans...\n",
       "1  Happy to meet Prime Minister @sanchezcastejon ...\n",
       "2  The school shooting in Texas is heartbreaking....\n",
       "3  Not long ago, the world increased aid for glob...\n",
       "4  .@PardisSabeti is working to detect pathogens ..."
      ]
     },
     "execution_count": 4,
     "metadata": {},
     "output_type": "execute_result"
    }
   ],
   "source": [
    "# Put everuything inside pandas\n",
    "df = pd.DataFrame([tweet.full_text for tweet in tweets], columns=['Tweets'])\n",
    "df.head()"
   ]
  },
  {
   "cell_type": "code",
   "execution_count": 5,
   "metadata": {
    "executionInfo": {
     "elapsed": 4,
     "status": "ok",
     "timestamp": 1653861397161,
     "user": {
      "displayName": "Daniel Loiola",
      "userId": "17718290381873343678"
     },
     "user_tz": 180
    },
    "id": "psM60gi70e8Z"
   },
   "outputs": [],
   "source": [
    "def clean(text):\n",
    "    # remove mentions\n",
    "    text = re.sub(r'@[A-Za-z0-9]+', '', text)\n",
    "    # remove hashtag symbol\n",
    "    text = re.sub(r'#', '', text)\n",
    "    # remove retweets\n",
    "    text = re.sub(r'RT[\\s]+', '', text)\n",
    "    # remove URLs\n",
    "    text = re.sub(r'https?:\\/\\/\\S+', '', text)\n",
    "\n",
    "    return text\n"
   ]
  },
  {
   "cell_type": "code",
   "execution_count": 6,
   "metadata": {
    "colab": {
     "base_uri": "https://localhost:8080/",
     "height": 424
    },
    "executionInfo": {
     "elapsed": 8,
     "status": "ok",
     "timestamp": 1653861398922,
     "user": {
      "displayName": "Daniel Loiola",
      "userId": "17718290381873343678"
     },
     "user_tz": 180
    },
    "id": "SsG3r9dMcVBL",
    "outputId": "47b15727-97c7-4f15-fcd9-7de464233641"
   },
   "outputs": [
    {
     "data": {
      "text/html": [
       "<div>\n",
       "<style scoped>\n",
       "    .dataframe tbody tr th:only-of-type {\n",
       "        vertical-align: middle;\n",
       "    }\n",
       "\n",
       "    .dataframe tbody tr th {\n",
       "        vertical-align: top;\n",
       "    }\n",
       "\n",
       "    .dataframe thead th {\n",
       "        text-align: right;\n",
       "    }\n",
       "</style>\n",
       "<table border=\"1\" class=\"dataframe\">\n",
       "  <thead>\n",
       "    <tr style=\"text-align: right;\">\n",
       "      <th></th>\n",
       "      <th>Tweets</th>\n",
       "    </tr>\n",
       "  </thead>\n",
       "  <tbody>\n",
       "    <tr>\n",
       "      <th>0</th>\n",
       "      <td>It was great to meet Dr  and exchange perspec...</td>\n",
       "    </tr>\n",
       "    <tr>\n",
       "      <th>1</th>\n",
       "      <td>Happy to meet Prime Minister  and members of h...</td>\n",
       "    </tr>\n",
       "    <tr>\n",
       "      <th>2</th>\n",
       "      <td>The school shooting in Texas is heartbreaking....</td>\n",
       "    </tr>\n",
       "    <tr>\n",
       "      <th>3</th>\n",
       "      <td>Not long ago, the world increased aid for glob...</td>\n",
       "    </tr>\n",
       "    <tr>\n",
       "      <th>4</th>\n",
       "      <td>. is working to detect pathogens earlier and s...</td>\n",
       "    </tr>\n",
       "    <tr>\n",
       "      <th>...</th>\n",
       "      <td>...</td>\n",
       "    </tr>\n",
       "    <tr>\n",
       "      <th>95</th>\n",
       "      <td>What a devastating loss. Paul is a hero, and I...</td>\n",
       "    </tr>\n",
       "    <tr>\n",
       "      <th>96</th>\n",
       "      <td>It has been over a year since wild polio paral...</td>\n",
       "    </tr>\n",
       "    <tr>\n",
       "      <th>97</th>\n",
       "      <td>Thank you  for the productive discussions on t...</td>\n",
       "    </tr>\n",
       "    <tr>\n",
       "      <th>98</th>\n",
       "      <td>I’m hopeful that the world can come together t...</td>\n",
       "    </tr>\n",
       "    <tr>\n",
       "      <th>99</th>\n",
       "      <td>The goal of no more pandemics ever is ambitiou...</td>\n",
       "    </tr>\n",
       "  </tbody>\n",
       "</table>\n",
       "<p>100 rows × 1 columns</p>\n",
       "</div>"
      ],
      "text/plain": [
       "                                               Tweets\n",
       "0    It was great to meet Dr  and exchange perspec...\n",
       "1   Happy to meet Prime Minister  and members of h...\n",
       "2   The school shooting in Texas is heartbreaking....\n",
       "3   Not long ago, the world increased aid for glob...\n",
       "4   . is working to detect pathogens earlier and s...\n",
       "..                                                ...\n",
       "95  What a devastating loss. Paul is a hero, and I...\n",
       "96  It has been over a year since wild polio paral...\n",
       "97  Thank you  for the productive discussions on t...\n",
       "98  I’m hopeful that the world can come together t...\n",
       "99  The goal of no more pandemics ever is ambitiou...\n",
       "\n",
       "[100 rows x 1 columns]"
      ]
     },
     "execution_count": 6,
     "metadata": {},
     "output_type": "execute_result"
    }
   ],
   "source": [
    "df['Tweets'] = df['Tweets'].apply(clean)\n",
    "df"
   ]
  },
  {
   "cell_type": "code",
   "execution_count": 7,
   "metadata": {
    "colab": {
     "base_uri": "https://localhost:8080/",
     "height": 424
    },
    "executionInfo": {
     "elapsed": 260,
     "status": "ok",
     "timestamp": 1653861401320,
     "user": {
      "displayName": "Daniel Loiola",
      "userId": "17718290381873343678"
     },
     "user_tz": 180
    },
    "id": "ZW3Y4YRhemCr",
    "outputId": "be8153c3-d746-4fcc-e403-48472d883ea1"
   },
   "outputs": [
    {
     "data": {
      "text/html": [
       "<div>\n",
       "<style scoped>\n",
       "    .dataframe tbody tr th:only-of-type {\n",
       "        vertical-align: middle;\n",
       "    }\n",
       "\n",
       "    .dataframe tbody tr th {\n",
       "        vertical-align: top;\n",
       "    }\n",
       "\n",
       "    .dataframe thead th {\n",
       "        text-align: right;\n",
       "    }\n",
       "</style>\n",
       "<table border=\"1\" class=\"dataframe\">\n",
       "  <thead>\n",
       "    <tr style=\"text-align: right;\">\n",
       "      <th></th>\n",
       "      <th>Tweets</th>\n",
       "      <th>Subjectivity</th>\n",
       "      <th>Polarity</th>\n",
       "    </tr>\n",
       "  </thead>\n",
       "  <tbody>\n",
       "    <tr>\n",
       "      <th>0</th>\n",
       "      <td>It was great to meet Dr  and exchange perspec...</td>\n",
       "      <td>0.250000</td>\n",
       "      <td>0.340000</td>\n",
       "    </tr>\n",
       "    <tr>\n",
       "      <th>1</th>\n",
       "      <td>Happy to meet Prime Minister  and members of h...</td>\n",
       "      <td>0.458333</td>\n",
       "      <td>0.433333</td>\n",
       "    </tr>\n",
       "    <tr>\n",
       "      <th>2</th>\n",
       "      <td>The school shooting in Texas is heartbreaking....</td>\n",
       "      <td>0.500000</td>\n",
       "      <td>0.500000</td>\n",
       "    </tr>\n",
       "    <tr>\n",
       "      <th>3</th>\n",
       "      <td>Not long ago, the world increased aid for glob...</td>\n",
       "      <td>0.200000</td>\n",
       "      <td>0.012500</td>\n",
       "    </tr>\n",
       "    <tr>\n",
       "      <th>4</th>\n",
       "      <td>. is working to detect pathogens earlier and s...</td>\n",
       "      <td>0.500000</td>\n",
       "      <td>0.000000</td>\n",
       "    </tr>\n",
       "    <tr>\n",
       "      <th>...</th>\n",
       "      <td>...</td>\n",
       "      <td>...</td>\n",
       "      <td>...</td>\n",
       "    </tr>\n",
       "    <tr>\n",
       "      <th>95</th>\n",
       "      <td>What a devastating loss. Paul is a hero, and I...</td>\n",
       "      <td>0.721429</td>\n",
       "      <td>-0.073377</td>\n",
       "    </tr>\n",
       "    <tr>\n",
       "      <th>96</th>\n",
       "      <td>It has been over a year since wild polio paral...</td>\n",
       "      <td>0.633333</td>\n",
       "      <td>0.566667</td>\n",
       "    </tr>\n",
       "    <tr>\n",
       "      <th>97</th>\n",
       "      <td>Thank you  for the productive discussions on t...</td>\n",
       "      <td>0.000000</td>\n",
       "      <td>0.000000</td>\n",
       "    </tr>\n",
       "    <tr>\n",
       "      <th>98</th>\n",
       "      <td>I’m hopeful that the world can come together t...</td>\n",
       "      <td>0.316667</td>\n",
       "      <td>0.333333</td>\n",
       "    </tr>\n",
       "    <tr>\n",
       "      <th>99</th>\n",
       "      <td>The goal of no more pandemics ever is ambitiou...</td>\n",
       "      <td>0.329167</td>\n",
       "      <td>0.075000</td>\n",
       "    </tr>\n",
       "  </tbody>\n",
       "</table>\n",
       "<p>100 rows × 3 columns</p>\n",
       "</div>"
      ],
      "text/plain": [
       "                                               Tweets  Subjectivity  Polarity\n",
       "0    It was great to meet Dr  and exchange perspec...      0.250000  0.340000\n",
       "1   Happy to meet Prime Minister  and members of h...      0.458333  0.433333\n",
       "2   The school shooting in Texas is heartbreaking....      0.500000  0.500000\n",
       "3   Not long ago, the world increased aid for glob...      0.200000  0.012500\n",
       "4   . is working to detect pathogens earlier and s...      0.500000  0.000000\n",
       "..                                                ...           ...       ...\n",
       "95  What a devastating loss. Paul is a hero, and I...      0.721429 -0.073377\n",
       "96  It has been over a year since wild polio paral...      0.633333  0.566667\n",
       "97  Thank you  for the productive discussions on t...      0.000000  0.000000\n",
       "98  I’m hopeful that the world can come together t...      0.316667  0.333333\n",
       "99  The goal of no more pandemics ever is ambitiou...      0.329167  0.075000\n",
       "\n",
       "[100 rows x 3 columns]"
      ]
     },
     "execution_count": 7,
     "metadata": {},
     "output_type": "execute_result"
    }
   ],
   "source": [
    "def get_subjectivity(text):\n",
    "    return TextBlob(text).sentiment.subjectivity\n",
    "\n",
    "def get_polarity(text):\n",
    "    return TextBlob(text).sentiment.polarity\n",
    "\n",
    "df['Subjectivity'] = df['Tweets'].apply(get_subjectivity)\n",
    "df['Polarity'] = df['Tweets'].apply(get_polarity)\n",
    "\n",
    "df"
   ]
  },
  {
   "cell_type": "code",
   "execution_count": 8,
   "metadata": {
    "colab": {
     "base_uri": "https://localhost:8080/",
     "height": 273
    },
    "executionInfo": {
     "elapsed": 878,
     "status": "ok",
     "timestamp": 1653861404680,
     "user": {
      "displayName": "Daniel Loiola",
      "userId": "17718290381873343678"
     },
     "user_tz": 180
    },
    "id": "Mwg8DV3gig4k",
    "outputId": "ca4ab1e9-5d2d-43b3-a70a-b573ba5a2037"
   },
   "outputs": [
    {
     "data": {
      "text/plain": [
       "(-0.5, 499.5, 299.5, -0.5)"
      ]
     },
     "execution_count": 8,
     "metadata": {},
     "output_type": "execute_result"
    },
    {
     "data": {
      "image/png": "[encoded data removed]",
      "text/plain": [
       "<Figure size 432x288 with 1 Axes>"
      ]
     },
     "metadata": {
      "needs_background": "light"
     },
     "output_type": "display_data"
    }
   ],
   "source": [
    "all_words = ' '.join( twt for twt in df['Tweets'])\n",
    "word_cloud = WordCloud(width=500, height=300, random_state=21, max_font_size=19).generate(all_words)\n",
    "\n",
    "plt.imshow(word_cloud, interpolation='bilinear')\n",
    "plt.axis('off')"
   ]
  },
  {
   "cell_type": "code",
   "execution_count": 9,
   "metadata": {
    "colab": {
     "base_uri": "https://localhost:8080/",
     "height": 424
    },
    "executionInfo": {
     "elapsed": 257,
     "status": "ok",
     "timestamp": 1653861407388,
     "user": {
      "displayName": "Daniel Loiola",
      "userId": "17718290381873343678"
     },
     "user_tz": 180
    },
    "id": "lux17iOpkSTi",
    "outputId": "02bb337c-63e8-4278-b7ca-d777953ccbcf"
   },
   "outputs": [
    {
     "data": {
      "text/html": [
       "<div>\n",
       "<style scoped>\n",
       "    .dataframe tbody tr th:only-of-type {\n",
       "        vertical-align: middle;\n",
       "    }\n",
       "\n",
       "    .dataframe tbody tr th {\n",
       "        vertical-align: top;\n",
       "    }\n",
       "\n",
       "    .dataframe thead th {\n",
       "        text-align: right;\n",
       "    }\n",
       "</style>\n",
       "<table border=\"1\" class=\"dataframe\">\n",
       "  <thead>\n",
       "    <tr style=\"text-align: right;\">\n",
       "      <th></th>\n",
       "      <th>Tweets</th>\n",
       "      <th>Subjectivity</th>\n",
       "      <th>Polarity</th>\n",
       "      <th>Analysis</th>\n",
       "    </tr>\n",
       "  </thead>\n",
       "  <tbody>\n",
       "    <tr>\n",
       "      <th>0</th>\n",
       "      <td>It was great to meet Dr  and exchange perspec...</td>\n",
       "      <td>0.250000</td>\n",
       "      <td>0.340000</td>\n",
       "      <td>Positive</td>\n",
       "    </tr>\n",
       "    <tr>\n",
       "      <th>1</th>\n",
       "      <td>Happy to meet Prime Minister  and members of h...</td>\n",
       "      <td>0.458333</td>\n",
       "      <td>0.433333</td>\n",
       "      <td>Positive</td>\n",
       "    </tr>\n",
       "    <tr>\n",
       "      <th>2</th>\n",
       "      <td>The school shooting in Texas is heartbreaking....</td>\n",
       "      <td>0.500000</td>\n",
       "      <td>0.500000</td>\n",
       "      <td>Positive</td>\n",
       "    </tr>\n",
       "    <tr>\n",
       "      <th>3</th>\n",
       "      <td>Not long ago, the world increased aid for glob...</td>\n",
       "      <td>0.200000</td>\n",
       "      <td>0.012500</td>\n",
       "      <td>Positive</td>\n",
       "    </tr>\n",
       "    <tr>\n",
       "      <th>4</th>\n",
       "      <td>. is working to detect pathogens earlier and s...</td>\n",
       "      <td>0.500000</td>\n",
       "      <td>0.000000</td>\n",
       "      <td>Neutral</td>\n",
       "    </tr>\n",
       "    <tr>\n",
       "      <th>...</th>\n",
       "      <td>...</td>\n",
       "      <td>...</td>\n",
       "      <td>...</td>\n",
       "      <td>...</td>\n",
       "    </tr>\n",
       "    <tr>\n",
       "      <th>95</th>\n",
       "      <td>What a devastating loss. Paul is a hero, and I...</td>\n",
       "      <td>0.721429</td>\n",
       "      <td>-0.073377</td>\n",
       "      <td>Negative</td>\n",
       "    </tr>\n",
       "    <tr>\n",
       "      <th>96</th>\n",
       "      <td>It has been over a year since wild polio paral...</td>\n",
       "      <td>0.633333</td>\n",
       "      <td>0.566667</td>\n",
       "      <td>Positive</td>\n",
       "    </tr>\n",
       "    <tr>\n",
       "      <th>97</th>\n",
       "      <td>Thank you  for the productive discussions on t...</td>\n",
       "      <td>0.000000</td>\n",
       "      <td>0.000000</td>\n",
       "      <td>Neutral</td>\n",
       "    </tr>\n",
       "    <tr>\n",
       "      <th>98</th>\n",
       "      <td>I’m hopeful that the world can come together t...</td>\n",
       "      <td>0.316667</td>\n",
       "      <td>0.333333</td>\n",
       "      <td>Positive</td>\n",
       "    </tr>\n",
       "    <tr>\n",
       "      <th>99</th>\n",
       "      <td>The goal of no more pandemics ever is ambitiou...</td>\n",
       "      <td>0.329167</td>\n",
       "      <td>0.075000</td>\n",
       "      <td>Positive</td>\n",
       "    </tr>\n",
       "  </tbody>\n",
       "</table>\n",
       "<p>100 rows × 4 columns</p>\n",
       "</div>"
      ],
      "text/plain": [
       "                                               Tweets  Subjectivity  Polarity  \\\n",
       "0    It was great to meet Dr  and exchange perspec...      0.250000  0.340000   \n",
       "1   Happy to meet Prime Minister  and members of h...      0.458333  0.433333   \n",
       "2   The school shooting in Texas is heartbreaking....      0.500000  0.500000   \n",
       "3   Not long ago, the world increased aid for glob...      0.200000  0.012500   \n",
       "4   . is working to detect pathogens earlier and s...      0.500000  0.000000   \n",
       "..                                                ...           ...       ...   \n",
       "95  What a devastating loss. Paul is a hero, and I...      0.721429 -0.073377   \n",
       "96  It has been over a year since wild polio paral...      0.633333  0.566667   \n",
       "97  Thank you  for the productive discussions on t...      0.000000  0.000000   \n",
       "98  I’m hopeful that the world can come together t...      0.316667  0.333333   \n",
       "99  The goal of no more pandemics ever is ambitiou...      0.329167  0.075000   \n",
       "\n",
       "    Analysis  \n",
       "0   Positive  \n",
       "1   Positive  \n",
       "2   Positive  \n",
       "3   Positive  \n",
       "4    Neutral  \n",
       "..       ...  \n",
       "95  Negative  \n",
       "96  Positive  \n",
       "97   Neutral  \n",
       "98  Positive  \n",
       "99  Positive  \n",
       "\n",
       "[100 rows x 4 columns]"
      ]
     },
     "execution_count": 9,
     "metadata": {},
     "output_type": "execute_result"
    }
   ],
   "source": [
    "# function to compute if the negative, neutral and positive stuff\n",
    "def get_analysis(score):\n",
    "    if score < 0:\n",
    "        return 'Negative'\n",
    "    elif score == 0:\n",
    "        return 'Neutral'\n",
    "    else:\n",
    "        return 'Positive'\n",
    "\n",
    "df['Analysis'] = df['Polarity'].apply(get_analysis)\n",
    "df"
   ]
  },
  {
   "cell_type": "code",
   "execution_count": 10,
   "metadata": {
    "colab": {
     "base_uri": "https://localhost:8080/",
     "height": 441
    },
    "executionInfo": {
     "elapsed": 828,
     "status": "ok",
     "timestamp": 1653861410845,
     "user": {
      "displayName": "Daniel Loiola",
      "userId": "17718290381873343678"
     },
     "user_tz": 180
    },
    "id": "0Mk--o8No548",
    "outputId": "3ba2a869-9dee-4b25-ab1d-f2766dae3aac"
   },
   "outputs": [
    {
     "data": {
      "image/png": "[encoded data removed]",
      "text/plain": [
       "<Figure size 576x432 with 1 Axes>"
      ]
     },
     "metadata": {
      "needs_background": "light"
     },
     "output_type": "display_data"
    }
   ],
   "source": [
    "plt.figure(figsize=(8,6))\n",
    "\n",
    "for i in range(df.shape[0]):\n",
    "    plt.scatter(df['Polarity'], df['Subjectivity'], color = 'Blue')\n",
    "\n",
    "plt.title('Sentiment Analysis')\n",
    "plt.xlabel('Polarity')\n",
    "plt.ylabel('Subjectivity')\n",
    "plt.show()"
   ]
  },
  {
   "cell_type": "code",
   "execution_count": null,
   "metadata": {
    "id": "FpPDNdEHz5Bi"
   },
   "outputs": [],
   "source": []
  }
 ],
 "metadata": {
  "colab": {
   "authorship_tag": "ABX9TyOxUNAOXUzE7If9LYrfhZoS",
   "name": "Tweetlyzer.ipynb",
   "provenance": []
  },
  "kernelspec": {
   "display_name": "Python 3",
   "language": "python",
   "name": "python3"
  },
  "language_info": {
   "codemirror_mode": {
    "name": "ipython",
    "version": 3
   },
   "file_extension": ".py",
   "mimetype": "text/x-python",
   "name": "python",
   "nbconvert_exporter": "python",
   "pygments_lexer": "ipython3",
   "version": "3.9.2"
  }
 },
 "nbformat": 4,
 "nbformat_minor": 1
}
